{
 "cells": [
  {
   "cell_type": "code",
   "execution_count": 7,
   "id": "ec740693-10cc-4337-ae02-909214b88d29",
   "metadata": {},
   "outputs": [],
   "source": [
    "import torch\n",
    "import pandas as pd\n",
    "from tqdm.notebook import trange, tqdm\n",
    "import logging\n",
    "import warnings\n",
    "import glob\n",
    "import os"
   ]
  },
  {
   "cell_type": "code",
   "execution_count": 2,
   "id": "3824b8ce-9ae1-448f-bdc3-9a113ef71a1c",
   "metadata": {},
   "outputs": [],
   "source": [
    "def make_timestamp(image_path:str, camera_name: str):\n",
    "    # Get timestamp from img name. TODO: move out of the loop. All these detections come from the same image, so timestamp is the same\n",
    "    # splits path into folders and file and keep the last one\n",
    "    # E.g.: ('../images/ie/idi/norwai/svv/ski-trd/jervskogen_1_2021-12-11_09-00-03.png') -> jervskogen_1_2021-12-11_09-00-03.png'\n",
    "    _, stamp = os.path.split(image_path)\n",
    "\n",
    "    # Remove camera name\n",
    "    # E.g. 'jervskogen_1_2021-12-11_09-00-03.png' -> '2021-12-11_09-00-03.png'\n",
    "    stamp = stamp.replace(camera_name + '_', '')\n",
    "\n",
    "    # Remove file extension\n",
    "    # E.g. '2021-12-11_09-00-03.png' -> '2021-12-11_09-00-03'\n",
    "    stamp = stamp.replace('.png', '')\n",
    "\n",
    "    # Split between date and time\n",
    "    # E.g. '2021-12-11_09-00-03' -> '2021-12-11' + '09-00-03'\n",
    "    date, time = stamp.split('_')\n",
    "\n",
    "    # Replace hiffen in time with colon\n",
    "    # E.g. '09-00-03' -> '09:00:03'\n",
    "    time = time.replace('-', ':')\n",
    "\n",
    "    # Finally, build the final timestamp string\n",
    "    # E.g. '2021-12-11' + 'T' + '09:00:03' -> '2021-12-11T09:00:03'\n",
    "    stamp = date + 'T' + time\n",
    "    \n",
    "    return stamp"
   ]
  },
  {
   "cell_type": "code",
   "execution_count": 9,
   "id": "d8ebdbf4-1bd3-45e6-8ad2-c537fc42ebf1",
   "metadata": {},
   "outputs": [
    {
     "data": {
      "application/vnd.jupyter.widget-view+json": {
       "model_id": "82a2dac20f544e73b355fc4a96cad605",
       "version_major": 2,
       "version_minor": 0
      },
      "text/plain": [
       "  0%|          | 0/2 [00:00<?, ?it/s]"
      ]
     },
     "metadata": {},
     "output_type": "display_data"
    },
    {
     "name": "stderr",
     "output_type": "stream",
     "text": [
      "Downloading: \"https://github.com/ultralytics/yolov5/archive/master.zip\" to /Users/areeb/.cache/torch/hub/master.zip\n",
      "fatal: not a git repository (or any of the parent directories): .git\n",
      "YOLOv5 🚀 2022-3-27 torch 1.10.2 CPU\n",
      "\n",
      "Fusing layers... \n",
      "YOLOv5s summary: 213 layers, 7225885 parameters, 0 gradients, 16.5 GFLOPs\n",
      "Adding AutoShape... \n"
     ]
    },
    {
     "data": {
      "application/vnd.jupyter.widget-view+json": {
       "model_id": "bb2f07b136354bbca77cefdd238858f8",
       "version_major": 2,
       "version_minor": 0
      },
      "text/plain": [
       "  0%|          | 0/13598 [00:00<?, ?it/s]"
      ]
     },
     "metadata": {},
     "output_type": "display_data"
    },
    {
     "name": "stderr",
     "output_type": "stream",
     "text": [
      "Downloading: \"https://github.com/ultralytics/yolov5/archive/master.zip\" to /Users/areeb/.cache/torch/hub/master.zip\n",
      "fatal: not a git repository (or any of the parent directories): .git\n",
      "YOLOv5 🚀 2022-3-27 torch 1.10.2 CPU\n",
      "\n",
      "Fusing layers... \n",
      "YOLOv5s summary: 213 layers, 7225885 parameters, 0 gradients, 16.5 GFLOPs\n",
      "Adding AutoShape... \n"
     ]
    },
    {
     "data": {
      "application/vnd.jupyter.widget-view+json": {
       "model_id": "bb318aa377da4c46a91d3d3b79ebcf2d",
       "version_major": 2,
       "version_minor": 0
      },
      "text/plain": [
       "  0%|          | 0/4107 [00:00<?, ?it/s]"
      ]
     },
     "metadata": {},
     "output_type": "display_data"
    }
   ],
   "source": [
    "def main():\n",
    "    \n",
    "    #cams = ('jervskogen_1', 'jervskogen_2', 'nilsbyen_2', 'nilsbyen_3', 'skistua', 'ronningen_1')\n",
    "    cams = ( 'skistua', 'ronningen_1')\n",
    "    #cam = 'nilsbyen_2'\n",
    "    \n",
    "    # Execute following line on cmd (cmd location -> inside project folder) of mac to mount the shared network folder on your machine.\n",
    "    # User is your university's account username\n",
    "    ## mount_smbfs //user@forskning.it.ntnu.no/nfs/ie/idi/norwai/svv/ski-trd ./Volumes/Ski\n",
    "    ## After use unmount ->  umount /Volumes/Ski\n",
    "    share_folder_path = '../sensor/Volumes/Ski/'\n",
    "    \n",
    "    # Few images are missing some bytes, therefore, we set turncation true \n",
    "    # which fills the missing bytes of image with grey color at the time of image loading.\n",
    "    # ImageFile.LOAD_TRUNCATED_IMAGES = True \n",
    "    \n",
    "    # Parameters\n",
    "    MONTH_TEST = '_'            # For all images it could be empty '_' or for month '_2022-01' \n",
    "    EXP_CONF = 0.5              # Experiment Confidence\n",
    "\n",
    "    df = dict()\n",
    "\n",
    "    # tqdm shows the progress bar\n",
    "    for cam in tqdm(cams):\n",
    "            \n",
    "        \n",
    "        # Finds all filenames starting with the camera name\n",
    "        images_path = glob.glob(share_folder_path + cam + MONTH_TEST + '*')\n",
    "        \n",
    "        # First, store all detections in a list, and then create a dataframe out of it\n",
    "        all_timestamps_count_results = []\n",
    "        only_detections_detailed_results = []\n",
    "                \n",
    "        # Suppress PyTorch warnings\n",
    "        warnings.filterwarnings('ignore', message='User provided device_type of \\'cuda\\', but CUDA is not available. Disabling')\n",
    "        \n",
    "        # Get model\n",
    "        model = torch.hub.load('ultralytics/yolov5', 'yolov5s', force_reload=True, device='cpu')  # or yolov5m, yolov5l, yolov5x, custom\n",
    "\n",
    "        \n",
    "        for index, image_path in enumerate(tqdm(images_path)):\n",
    "            try:\n",
    "                \n",
    "                # (A) Perform inference on machine                    \n",
    "                results = model(image_path)    ## Insert 'overlapped_image'\n",
    "                detected_objects = results.pandas().xyxyn[0]\n",
    "\n",
    "                if len(detected_objects) > 0:\n",
    "\n",
    "                    stamp = make_timestamp(image_path, cam)\n",
    "                    person_count = 0\n",
    "\n",
    "                    for index, row in detected_objects.iterrows():\n",
    "\n",
    "                        entry_detections = {\n",
    "                            \"timestamp\": pd.Timestamp(stamp),\n",
    "                            \"p1x\": row['xmin'],\n",
    "                            \"p1y\": row['ymin'],\n",
    "                            \"p2x\": row['xmax'],\n",
    "                            \"p2y\": row['ymax'],\n",
    "                            \"conf\": row['confidence'],\n",
    "                            \"class\": row['name'],\n",
    "                        }\n",
    "\n",
    "                        only_detections_detailed_results.append(entry_detections)\n",
    "\n",
    "                        if( (row['name'] == 'person') & (row['confidence'] > EXP_CONF)):\n",
    "                            person_count = person_count + 1\n",
    "\n",
    "                    entry_timestamps = {\n",
    "                        \"timestamp\": pd.Timestamp(stamp),\n",
    "                        \"count\":   person_count,\n",
    "                        \"exp-conf\": EXP_CONF,\n",
    "                    }\n",
    "\n",
    "                    all_timestamps_count_results.append(entry_timestamps)\n",
    "\n",
    "                else:\n",
    "\n",
    "                    stamp = make_timestamp(image_path, cam)\n",
    "                    person_count = 0\n",
    "\n",
    "                    entry_timestamps = {\n",
    "                        \"timestamp\": pd.Timestamp(stamp),\n",
    "                        \"count\":   person_count,\n",
    "                         \"exp-conf\": EXP_CONF,\n",
    "                    }\n",
    "\n",
    "                    all_timestamps_count_results.append(entry_timestamps)\n",
    "          \n",
    "\n",
    "            # Error handling: if there is any error, just ignore and continue processing next images          \n",
    "            except Exception as error:\n",
    "                print ('Some eroor occured..continue..')\n",
    "                continue\n",
    "\n",
    "        df_only_detections_detailed_results = pd.DataFrame(only_detections_detailed_results)\n",
    "        df_all_timestamps_count_results = pd.DataFrame(all_timestamps_count_results)\n",
    "\n",
    "        \n",
    "        path_string_detections = 'all/' + cam + '_only_detections_' \n",
    "        path_string_timestamps = 'all/' + cam + '_all_timestamps_count_' \n",
    "        \n",
    "            \n",
    "        df_only_detections_detailed_results.to_csv('../data/datasets/local/' + path_string_detections + '.csv', index=False)\n",
    "        df_all_timestamps_count_results.to_csv('../data/datasets/local/' + path_string_timestamps + '.csv', index=False)\n",
    "        \n",
    "if __name__ == '__main__':\n",
    "    main()        "
   ]
  },
  {
   "cell_type": "code",
   "execution_count": null,
   "id": "d36293cc-e42e-4130-94fc-b48d8e5fab78",
   "metadata": {},
   "outputs": [],
   "source": []
  }
 ],
 "metadata": {
  "kernelspec": {
   "display_name": "yolo_env",
   "language": "python",
   "name": "yolo_env"
  },
  "language_info": {
   "codemirror_mode": {
    "name": "ipython",
    "version": 3
   },
   "file_extension": ".py",
   "mimetype": "text/x-python",
   "name": "python",
   "nbconvert_exporter": "python",
   "pygments_lexer": "ipython3",
   "version": "3.7.11"
  }
 },
 "nbformat": 4,
 "nbformat_minor": 5
}
