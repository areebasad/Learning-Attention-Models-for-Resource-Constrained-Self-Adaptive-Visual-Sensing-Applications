{
 "cells": [
  {
   "cell_type": "code",
   "execution_count": 1,
   "id": "7ae1bfb6-013b-40b8-8b74-39f95c95b60b",
   "metadata": {},
   "outputs": [],
   "source": [
    "# Pipeline\n",
    "# Sensor -> Capture Image -> Policy -> Transmit Image\n",
    "# Cloud -> Send heatmap to sensor "
   ]
  },
  {
   "cell_type": "code",
   "execution_count": null,
   "id": "fed3aea4-5924-49a4-b31a-e6269c83443d",
   "metadata": {},
   "outputs": [],
   "source": [
    "#%load_ext autoreload\n",
    "#%autoreload 2"
   ]
  },
  {
   "cell_type": "code",
   "execution_count": 1,
   "id": "996c3f07-efc6-4d5d-af88-74b5bdd15fef",
   "metadata": {},
   "outputs": [],
   "source": [
    "import torch\n",
    "import pandas as pd\n",
    "import numpy as np\n",
    "import seaborn as sns\n",
    "import matplotlib.pyplot as plt\n",
    "%matplotlib inline\n",
    "import image_slicer \n",
    "from PIL import Image, ImageFile\n",
    "from icecream import ic\n",
    "import glob\n",
    "from math import sqrt, ceil, floor\n",
    "from tqdm.notebook import trange, tqdm\n",
    "import io                      # for image2byte array\n",
    "from functions import image_to_byte_array, nlargest_indices, adjust_indices_for_slicerPackage, select_tiles, make_timestamp\n",
    "from functions import overlap_selected_tiles_on_background_image\n",
    "import os"
   ]
  },
  {
   "cell_type": "code",
   "execution_count": 1,
   "id": "52d51df8-6f99-4259-ba3a-9e19282056ea",
   "metadata": {},
   "outputs": [],
   "source": [
    "def update_heatmap_alpha(distribution_heatmap, bins_x, bins_y, detected_objects, confidence_threshold: float):\n",
    "\n",
    "    # Image parameters\n",
    "    image_num_grid_tiles = 64   # This should be an even number, total tilles to be in image \n",
    "    grid_width = int(ceil(sqrt(image_num_grid_tiles))) # number of columns\n",
    "    grid_height = int(ceil(image_num_grid_tiles / float(grid_width))) # number of rows  \n",
    "    span = 144 * 30             # 144 Samples per day (10 min interval) x 30 days\n",
    "    alpha = 2/ (span +1)\n",
    "    \n",
    "    \n",
    "    # Initialise heatmap \n",
    "    distribution_heatmap_local = np.zeros([grid_height, grid_width])\n",
    "    \n",
    "    if len(detected_objects) > 0:\n",
    "\n",
    "        for index, row in detected_objects.iterrows():\n",
    "\n",
    "            if row['name'] == 'person' and row['confidence'] > confidence_threshold:\n",
    "                # Top left point\n",
    "                p1 = [row['xmin'], row['ymin']]\n",
    "\n",
    "                pd1 = [np.digitize(p1[0],bins_x) - 1, np.digitize(p1[1],bins_y) - 1]\n",
    "\n",
    "                # Bottom right point\n",
    "                p2 = [row['xmax'], row['ymax']]\n",
    "\n",
    "                pd2 = [np.digitize(p2[0],bins_x) - 1, np.digitize(p2[1],bins_y) - 1]\n",
    "\n",
    "                # Increment heatmap matrix\n",
    "                distribution_heatmap_local[np.ix_(np.arange(pd1[1],pd2[1]+1), np.arange(pd1[0],pd2[0]+1))] += 1\n",
    "\n",
    "    for i in range(len(distribution_heatmap_local)):\n",
    "        for j in range(len(distribution_heatmap_local[i])): \n",
    "                distribution_heatmap[i,j] = (alpha * distribution_heatmap[i,j]) + ((1 - alpha)*distribution_heatmap_local[i,j])\n",
    "    \n",
    "    return distribution_heatmap         \n",
    "\n",
    "    '''\n",
    "    if NORMALIZE_HEATMAPS:\n",
    "        detect_heatmap_partition = detect_heatmap_partition/detect_heatmap_partition.sum()\n",
    "\n",
    "    ax = sns.heatmap(detect_heatmap_partition, xticklabels=False, yticklabels=False, cmap='Reds')\n",
    "    plt.title(cam)\n",
    "\n",
    "    if SAVE_IMAGES:\n",
    "        plt.savefig('outputs/' + 'partition_heatmap_' + cam + '.jpg', dpi=300, format='jpg')\n",
    "\n",
    "    plt.clf()\n",
    "    '''    \n"
   ]
  },
  {
   "cell_type": "code",
   "execution_count": 11,
   "id": "13bac45a-9d64-4aa9-9b11-f5053e9266be",
   "metadata": {},
   "outputs": [],
   "source": [
    "def get_camera_background_image_path(camera_name:str, time):\n",
    "   \n",
    "    folder_path = \"../utils/reference-images/\"\n",
    "    \n",
    "    if ((time.hour >= 18) or (time.hour <= 10)):\n",
    "        # Night\n",
    "        cam_background_images_path = {\n",
    "            \"jervskogen_1\": folder_path + \"jervskogen_1_2021-12-11_11-30-03.png\",\n",
    "            \"jervskogen_2\": folder_path + \"jervskogen_2_2021-12-17_03-30-04.png\",\n",
    "            \"nilsbyen_2\":   folder_path + \"nilsbyen_2_2021-12-11_11-10-03.png\",\n",
    "            \"nilsbyen_3\":   folder_path + \"nilsbyen_3_2021-12-11_10-00-03.png\",\n",
    "            \"skistua\":      folder_path + \"skistua_2021-12-11_10-00-03.png\",\n",
    "            \"ronningen_1\":  folder_path + \"jervskogen_1_2021-12-11_11-30-03.png\"    \n",
    "        }\n",
    "        \n",
    "    else:   \n",
    "        # Day\n",
    "        cam_background_images_path = {\n",
    "            \"jervskogen_1\": folder_path + \"jervskogen_1_2021-12-11_11-30-03.png\",\n",
    "            \"jervskogen_2\": folder_path + \"jervskogen_2_2021-12-11_09-50-03.png\",\n",
    "            \"nilsbyen_2\":   folder_path + \"nilsbyen_2_2021-12-11_11-10-03.png\",\n",
    "            \"nilsbyen_3\":   folder_path + \"nilsbyen_3_2021-12-11_10-00-03.png\",\n",
    "            \"skistua\":      folder_path + \"skistua_2021-12-11_10-00-03.png\",\n",
    "            \"ronningen_1\":  folder_path + \"jervskogen_1_2021-12-11_11-30-03.png\"    \n",
    "        }\n",
    "   \n",
    "    return cam_background_images_path[camera_name]"
   ]
  },
  {
   "cell_type": "code",
   "execution_count": 10,
   "id": "2c193c46-2b39-4dbf-b72a-79031ae88319",
   "metadata": {},
   "outputs": [
    {
     "data": {
      "text/plain": [
       "'../utils/reference-images/jervskogen_2_2021-12-17_03-30-04.png'"
      ]
     },
     "execution_count": 10,
     "metadata": {},
     "output_type": "execute_result"
    }
   ],
   "source": [
    "get_camera_background_image_path('jervskogen_2', pd.Timestamp(make_timestamp(\"jervskogen_2_2021-03-18_22-40-03.png\", 'jervskogen_2')))"
   ]
  },
  {
   "cell_type": "code",
   "execution_count": 5,
   "id": "b617a8e8-5bd0-453a-a6b2-2f8cce3554af",
   "metadata": {},
   "outputs": [],
   "source": [
    "def n_percentage_of_y(percentage: int, whole: int):\n",
    "    \n",
    "    return round ((percentage * whole) / 100.0)"
   ]
  },
  {
   "cell_type": "code",
   "execution_count": 6,
   "id": "5a4d0235-f7e5-493c-8bf9-8f1e91a75027",
   "metadata": {},
   "outputs": [
    {
     "data": {
      "text/plain": [
       "51"
      ]
     },
     "execution_count": 6,
     "metadata": {},
     "output_type": "execute_result"
    }
   ],
   "source": [
    "n_percentage_of_y(80, 64)"
   ]
  },
  {
   "cell_type": "code",
   "execution_count": 227,
   "id": "7bb18105-7995-42f8-a9c6-7f53eecd5fa7",
   "metadata": {},
   "outputs": [
    {
     "name": "stderr",
     "output_type": "stream",
     "text": [
      "ic| ix: array([[ True,  True, False,  True, False, False,  True, False],\n",
      "               [False, False, False, False, False, False, False, False],\n",
      "               [False, False, False, False, False, False, False, False],\n",
      "               [False, False, False, False, False, False, False, False],\n",
      "               [False, False, False, False, False, False, False, False],\n",
      "               [False, False, False, False, False, False, False, False],\n",
      "               [False, False, False, False, False, False, False, False],\n",
      "               [False, False, False, False, False, False, False, False]])\n"
     ]
    },
    {
     "ename": "NameError",
     "evalue": "name 'heatmap_distribution_2d' is not defined",
     "output_type": "error",
     "traceback": [
      "\u001b[0;31m---------------------------------------------------------------------------\u001b[0m",
      "\u001b[0;31mNameError\u001b[0m                                 Traceback (most recent call last)",
      "\u001b[0;32m/var/folders/fh/bknnh1gx3m17c962w063krcc0000gn/T/ipykernel_41551/4239676337.py\u001b[0m in \u001b[0;36m<module>\u001b[0;34m\u001b[0m\n\u001b[1;32m     11\u001b[0m \u001b[0;31m#ic(rows)\u001b[0m\u001b[0;34m\u001b[0m\u001b[0;34m\u001b[0m\u001b[0;34m\u001b[0m\u001b[0m\n\u001b[1;32m     12\u001b[0m \u001b[0;31m#ic(cols)\u001b[0m\u001b[0;34m\u001b[0m\u001b[0;34m\u001b[0m\u001b[0;34m\u001b[0m\u001b[0m\n\u001b[0;32m---> 13\u001b[0;31m \u001b[0mheatmap_distribution_2d\u001b[0m \u001b[0;34m=\u001b[0m \u001b[0mnp\u001b[0m\u001b[0;34m.\u001b[0m\u001b[0mones\u001b[0m\u001b[0;34m(\u001b[0m\u001b[0;34m[\u001b[0m\u001b[0mgrid_height\u001b[0m\u001b[0;34m,\u001b[0m \u001b[0mgrid_width\u001b[0m\u001b[0;34m]\u001b[0m\u001b[0;34m,\u001b[0m \u001b[0mdtype\u001b[0m\u001b[0;34m=\u001b[0m\u001b[0mint\u001b[0m\u001b[0;34m)\u001b[0m\u001b[0;34m/\u001b[0m\u001b[0mheatmap_distribution_2d\u001b[0m\u001b[0;34m.\u001b[0m\u001b[0msize\u001b[0m\u001b[0;34m\u001b[0m\u001b[0;34m\u001b[0m\u001b[0m\n\u001b[0m",
      "\u001b[0;31mNameError\u001b[0m: name 'heatmap_distribution_2d' is not defined"
     ]
    }
   ],
   "source": [
    "image_num_grid_tiles =64\n",
    "all_tiles_number = np.arange(image_num_grid_tiles) # Creates a 1-D array from 0-n, these numbers represent tiles number\n",
    "grid_width = int(ceil(sqrt(image_num_grid_tiles))) # number of columns\n",
    "grid_height = int(ceil(image_num_grid_tiles / float(grid_width))) # number of rows  \n",
    "all_tiles_number_2d = np.reshape(all_tiles_number, (grid_height,grid_width)) # (rows, columns)\n",
    "\n",
    "values = [0,1, 3, 6]\n",
    "ix = np.isin(all_tiles_number_2d, values)\n",
    "ic(ix)\n",
    "np.where(ix == True)\n",
    "#ic(rows)\n",
    "#ic(cols)\n",
    "heatmap_distribution_2d = np.ones([grid_height, grid_width], dtype=int)/heatmap_distribution_2d.size\n"
   ]
  },
  {
   "cell_type": "code",
   "execution_count": 7,
   "id": "d465aedc-c15a-4aba-ab5e-1a9d9cf1b5a6",
   "metadata": {},
   "outputs": [],
   "source": [
    "def egreedy_policy(number_of_tiles_to_select: int, total_image_tiles: int, grid_width, grid_height, e_decay: float, heatmap_distribution_2d):\n",
    "    \n",
    "    all_tiles_1d = np.arange(total_image_tiles) # Creates a 1-D array from 0-n, these numbers represent tiles number\n",
    "    \n",
    "    p = np.random.random()\n",
    "    exploration_bool = True\n",
    "    if p < e_decay:\n",
    "        # Exploration\n",
    "        uniform_distribution = [1/total_image_tiles] * total_image_tiles # create uniform distribution 1D array\n",
    "        tiles_to_select = np.random.choice(all_tiles_1d, size = number_of_tiles_to_select, replace=False, p = uniform_distribution)\n",
    "    \n",
    "    else:\n",
    "        # Exploitation\n",
    "        heatmap_distribution_2d = heatmap_distribution_2d/heatmap_distribution_2d.sum() # Normalize\n",
    "        heatmap_distribution_1d = list(np.concatenate(heatmap_distribution_2d).flat)    # convert to 1D array\n",
    "        tiles_to_select = np.random.choice(all_tiles_1d, size = number_of_tiles_to_select, replace=False, p = heatmap_distribution_1d)\n",
    "        exploration_bool = False\n",
    "\n",
    "\n",
    "    # reshape to 2D array and find indices of selected tiles\n",
    "    all_tiles_number_2d = np.reshape(all_tiles_1d, (grid_width, grid_height)) # (rows, columns)\n",
    "    boolean_2D_array = np.isin(all_tiles_number_2d, tiles_to_select)              # Returns a boolean 2D array, where tiles to select are marked True\n",
    "    indices_x, indices_y = np.where(boolean_2D_array == True)                     # Returns indices of tiles marked as true\n",
    "    \n",
    "    return {\n",
    "            \"selected_tiles_inidces_x\": indices_x,\n",
    "            \"selected_tiles_indices_y\": indices_y,\n",
    "            \"if_exploration\": exploration_bool\n",
    "            }\n",
    "        "
   ]
  },
  {
   "cell_type": "code",
   "execution_count": 8,
   "id": "5f550412-e489-4095-9b73-a5fb5a7295a3",
   "metadata": {},
   "outputs": [],
   "source": [
    "def exploitation_always(number_of_tiles_to_select: int, total_image_tiles: int, grid_width, grid_height, heatmap_distribution_2d, image_tiles, cam: str, EXP_CONF_THRESHOLD, model, timestamp):\n",
    "        all_tiles_1d = np.arange(total_image_tiles) # Creates a 1-D array from 0-n, these numbers represent tiles number\n",
    "\n",
    "         # Exploitation\n",
    "        heatmap_distribution_2d = heatmap_distribution_2d/heatmap_distribution_2d.sum() # Normalize\n",
    "        heatmap_distribution_1d = list(np.concatenate(heatmap_distribution_2d).flat)    # convert to 1D array\n",
    "        tiles_to_select = np.random.choice(all_tiles_1d, size = number_of_tiles_to_select, replace=False, p = heatmap_distribution_1d)\n",
    "    \n",
    "        # reshape to 2D array and find indices of selected tiles\n",
    "        all_tiles_number_2d = np.reshape(all_tiles_1d, (grid_width, grid_height)) # (rows, columns)\n",
    "        boolean_2D_array = np.isin(all_tiles_number_2d, tiles_to_select)              # Returns a boolean 2D array, where tiles to select are marked True\n",
    "        indices_x, indices_y = np.where(boolean_2D_array == True)                     # Returns indices of tiles marked as true\n",
    "        selected_tiles_inidces_x = indices_x\n",
    "        selected_tiles_indices_y = indices_y\n",
    "        \n",
    "        # Map selected tiles indices as per SlicerPackage indices scheme \n",
    "        selected_tiles_indices =  adjust_indices_for_slicerPackage(selected_tiles_inidces_x,\n",
    "                                                                           selected_tiles_indices_y)  \n",
    "                \n",
    "        # Select only chosen image tiles from all image tiles based on policy\n",
    "        selected_tiles = select_tiles(image_tiles, selected_tiles_indices)\n",
    "\n",
    "        # Paste selected tiles on reference/background image                \n",
    "        overlapped_image = overlap_selected_tiles_on_background_image(tiles_to_overlap = selected_tiles,\n",
    "                                                                              total_number_of_tiles = total_image_tiles,\n",
    "                                                                              reference_image_path = get_camera_background_image_path(cam, timestamp)\n",
    "                                                                              )\n",
    "        # Inference\n",
    "        # (A) Perform inference on machine                    \n",
    "        results = model(overlapped_image)    \n",
    "        detected_objects = results.pandas().xyxyn[0]\n",
    "\n",
    "        if len(detected_objects) > 0:\n",
    "            person_count = 0\n",
    "                        \n",
    "            for index, row in detected_objects.iterrows():\n",
    "\n",
    "                if( (row['name'] == 'person') & (row['confidence'] > EXP_CONF_THRESHOLD)):\n",
    "                    person_count = person_count + 1\n",
    "\n",
    "        else:\n",
    "            person_count = 0\n",
    "            \n",
    "        return  {\n",
    "                \"person_count\": person_count\n",
    "                }    \n",
    "\n",
    "            "
   ]
  },
  {
   "cell_type": "code",
   "execution_count": 249,
   "id": "52dc4356-f463-4ac1-a14d-9f589aee6fc9",
   "metadata": {},
   "outputs": [
    {
     "name": "stderr",
     "output_type": "stream",
     "text": [
      "ic| heatmap_distribution_global.size: 64\n",
      "ic| alpha: {'selected_tiles_indices_y': array([1, 3, 3, 4, 1, 5, 7, 1]),\n",
      "            'selected_tiles_inidces_x': array([0, 0, 1, 3, 4, 5, 5, 7])}\n",
      "ic| grid_width: 8\n",
      "ic| grid_height: 8\n",
      "ic| bins_x: array([          0,       0.125,        0.25,       0.375,         0.5,       0.625,        0.75,       0.875,           1])\n"
     ]
    },
    {
     "data": {
      "image/png": "[encoded data removed]",
      "text/plain": [
       "<Figure size 432x288 with 2 Axes>"
      ]
     },
     "metadata": {
      "needs_background": "light"
     },
     "output_type": "display_data"
    }
   ],
   "source": [
    "image_num_grid_tiles =64\n",
    "all_tiles_number = np.arange(image_num_grid_tiles) # Creates a 1-D array from 0-n, these numbers represent tiles number\n",
    "grid_width = int(ceil(sqrt(image_num_grid_tiles))) # number of columns\n",
    "grid_height = int(ceil(image_num_grid_tiles / float(grid_width))) # number of rows  \n",
    "heatmap_distribution_global = np.ones([grid_height, grid_width])\n",
    "ic(heatmap_distribution_global.size)\n",
    "#distribution_heatmap = np.reshape(heatmap_distribution_global, (grid_height,grid_width)) # (rows, columns)\n",
    "\n",
    "alpha = egreedy_policy(8, 64, grid_width, grid_height, 0.5, heatmap_distribution_global)\n",
    "ic(alpha)\n",
    "bins_x = np.linspace(0, 1, num=grid_width + 1, endpoint=True)\n",
    "ic(grid_width)\n",
    "ic(grid_height)\n",
    "ic(bins_x)\n",
    "ax = sns.heatmap(np.ones([grid_height,grid_width], dtype=int)/(64), xticklabels=False, yticklabels=False, cmap='Reds')\n",
    "\n",
    "plt.show()"
   ]
  },
  {
   "cell_type": "code",
   "execution_count": 251,
   "id": "a5d91cf9-f946-471e-a6ba-8cc663f4988d",
   "metadata": {},
   "outputs": [
    {
     "data": {
      "image/png": "[encoded data removed]",
      "text/plain": [
       "<Figure size 432x288 with 2 Axes>"
      ]
     },
     "metadata": {
      "needs_background": "light"
     },
     "output_type": "display_data"
    }
   ],
   "source": [
    "import matplotlib.image as mpimg # add\n",
    "\n",
    "e = np.ones([grid_height,grid_width])\n",
    "\n",
    "h = sns.heatmap(e, alpha=0.1, zorder=2) # update\n",
    "my_image = mpimg.imread(\"../utils/reference-images/jervskogen_1_2021-12-11_11-30-03.png\") # update\n",
    "# update\n",
    "h.imshow(my_image,\n",
    "         aspect=h.get_aspect(),\n",
    "         extent= h.get_xlim() + h.get_ylim(),\n",
    "         zorder=1)\n",
    "\n",
    "plt.show() # add"
   ]
  },
  {
   "cell_type": "code",
   "execution_count": 230,
   "id": "b7e1ffdd-d1c4-4f29-b900-1b6af3aadf73",
   "metadata": {},
   "outputs": [
    {
     "data": {
      "text/plain": [
       "array([[   0.015625,    0.015625,    0.015625,    0.015625,    0.015625,    0.015625,    0.015625,    0.015625],\n",
       "       [   0.015625,    0.015625,    0.015625,    0.015625,    0.015625,    0.015625,    0.015625,    0.015625],\n",
       "       [   0.015625,    0.015625,    0.015625,    0.015625,    0.015625,    0.015625,    0.015625,    0.015625],\n",
       "       [   0.015625,    0.015625,    0.015625,    0.015625,    0.015625,    0.015625,    0.015625,    0.015625],\n",
       "       [   0.015625,    0.015625,    0.015625,    0.015625,    0.015625,    0.015625,    0.015625,    0.015625],\n",
       "       [   0.015625,    0.015625,    0.015625,    0.015625,    0.015625,    0.015625,    0.015625,    0.015625],\n",
       "       [   0.015625,    0.015625,    0.015625,    0.015625,    0.015625,    0.015625,    0.015625,    0.015625],\n",
       "       [   0.015625,    0.015625,    0.015625,    0.015625,    0.015625,    0.015625,    0.015625,    0.015625]])"
      ]
     },
     "execution_count": 230,
     "metadata": {},
     "output_type": "execute_result"
    }
   ],
   "source": [
    "np.ones((8,8), dtype=int)/64"
   ]
  },
  {
   "cell_type": "code",
   "execution_count": null,
   "id": "02997d0a-36c0-4afd-aa31-8097d23ad3f7",
   "metadata": {},
   "outputs": [],
   "source": []
  },
  {
   "cell_type": "code",
   "execution_count": 231,
   "id": "1ef86304-b573-4e30-a972-8591d1e7940b",
   "metadata": {},
   "outputs": [
    {
     "data": {
      "text/plain": [
       "array([2, 4, 3])"
      ]
     },
     "execution_count": 231,
     "metadata": {},
     "output_type": "execute_result"
    }
   ],
   "source": [
    "rng = np.random.default_rng()\n",
    "rng.choice(5, 3, replace=False, p=[0.1, 0.1, 0.1, 0.3, 0.4])\n"
   ]
  },
  {
   "cell_type": "code",
   "execution_count": 9,
   "id": "e35d2696-3d3e-4358-8540-6a06db424389",
   "metadata": {},
   "outputs": [],
   "source": [
    "def make_dir_if_not_exists(dir_path):\n",
    "    # Check whether the specified path exists or not\n",
    "    is_exist = os.path.exists(dir_path)\n",
    "\n",
    "    if not is_exist:\n",
    "      # Create a new directory because it does not exist \n",
    "      os.makedirs(dir_path)"
   ]
  },
  {
   "cell_type": "code",
   "execution_count": 18,
   "id": "86e5bf7b-223f-4d92-83af-2d8dd0da9c2a",
   "metadata": {},
   "outputs": [
    {
     "data": {
      "application/vnd.jupyter.widget-view+json": {
       "model_id": "148fa94302474aef8ff79ad1a0777d24",
       "version_major": 2,
       "version_minor": 0
      },
      "text/plain": [
       "  0%|          | 0/1 [00:00<?, ?it/s]"
      ]
     },
     "metadata": {},
     "output_type": "display_data"
    },
    {
     "name": "stderr",
     "output_type": "stream",
     "text": [
      "ic| len(images_path): 13597\n",
      "Downloading: \"https://github.com/ultralytics/yolov5/archive/master.zip\" to /Users/areeb/.cache/torch/hub/master.zip\n",
      "YOLOv5 🚀 2022-6-16 Python-3.7.11 torch-1.10.2 CPU\n",
      "\n",
      "Fusing layers... \n",
      "YOLOv5s summary: 213 layers, 7225885 parameters, 0 gradients, 16.5 GFLOPs\n",
      "Adding AutoShape... \n"
     ]
    },
    {
     "data": {
      "application/vnd.jupyter.widget-view+json": {
       "model_id": "39926507807f4dcbbe1d3176a924b453",
       "version_major": 2,
       "version_minor": 0
      },
      "text/plain": [
       "  0%|          | 0/13597 [00:00<?, ?it/s]"
      ]
     },
     "metadata": {},
     "output_type": "display_data"
    }
   ],
   "source": [
    "## Todo: Cloud part needs to be updated\n",
    "\n",
    "import grpc                     # for cloud inference\n",
    "#import yolov5_service_pb2      # for cloud inference\n",
    "#import yolov5_service_pb2_grpc # for cloud inference\n",
    "from image_slicer import slice\n",
    "from PIL import Image, ImageFile\n",
    "import io                      # for image2byte array\n",
    "import os\n",
    "import logging\n",
    "import warnings\n",
    "import fnmatch\n",
    "\n",
    "_YOLO_PORT = 8055\n",
    "\n",
    "#yolo_channel = grpc.insecure_channel(\"ai4eu.idi.ntnu.no:\" + str(_YOLO_PORT))\n",
    "#yolo_stub = yolov5_service_pb2_grpc.YoloV5Stub(yolo_channel)\n",
    "'''\n",
    "YOLOv5 🚀 2022-5-21 Python-3.7.11 torch-1.10.2 CPU\n",
    "\n",
    "Fusing layers... \n",
    "[W NNPACK.cpp:79] Could not initialize NNPACK! Reason: Unsupported hardware.\n",
    "YOLOv5s summary: 213 layers, 7225885 parameters, 0 gradients, 16.5 GFLOPs\n",
    "Adding AutoShape... \n",
    "'''\n",
    "SHARED_DRIVE = False\n",
    "INFERENCE_LOCAL = True\n",
    "\n",
    "def pipeline_sensor():\n",
    "    \n",
    "    #cams = ('jervskogen_1', 'jervskogen_2', 'nilsbyen_2', 'nilsbyen_3', 'skistua', 'ronningen_1')\n",
    "    cam = 'jervskogen_2'\n",
    "    \n",
    "    # Execute following line on cmd (cmd location -> inside project folder) of mac to mount the shared network folder on your machine.\n",
    "    # User is your university's account username\n",
    "    ## mount_smbfs //user@forskning.it.ntnu.no/nfs/ie/idi/norwai/svv/ski-trd ./Volumes/Ski\n",
    "    ## After use unmount ->  umount /Volumes/Ski\n",
    "    if SHARED_DRIVE is True:\n",
    "        share_folder_path = './Volumes/Ski/'\n",
    "    else:\n",
    "        share_folder_path = './local_data/Ski/'\n",
    "\n",
    "    # Few images are missing some bytes, therefore, we set turncation true \n",
    "    # which fills the missing bytes of image with grey color at the time of image loading.\n",
    "    ImageFile.LOAD_TRUNCATED_IMAGES = True \n",
    "    \n",
    "    # Parameters/initialisation\n",
    "    policy_percentages = [20]  # 20, 40, 60, 80 percentage -> refers to energy budget and translates to how much image portion to transmit    \n",
    "    MONTHS = ['_2021-12', '_2022-01', '_2022-02', '_2022-03']     # 2022-01-11       # For all images it could be empty with underscore '_' or for month '_2022-01' \n",
    "    number_of_months_to_include = 4\n",
    "    EXP_CONF_THRESHOLD = 0.5\n",
    "    SAVE_HEATMAP = True\n",
    "    \n",
    "    # e_greedy policy parameters\n",
    "    exploration = 0.5\n",
    "    decay = 0.9999\n",
    "\n",
    "    # Image parameters\n",
    "    image_num_grid_tiles = 64   # This should be an even number, total tilles to be in image \n",
    "    grid_width = int(ceil(sqrt(image_num_grid_tiles))) # number of columns\n",
    "    grid_height = int(ceil(image_num_grid_tiles / float(grid_width))) # number of rows  \n",
    "    \n",
    "    \n",
    "\n",
    "    \n",
    "    exp_name_folder = 'Experiment_operational_egreedy_with_alpha' + str(exploration)\n",
    "    \n",
    "    # tqdm shows the progress bar\n",
    "    for policy_percentage in tqdm(policy_percentages):\n",
    "    #for cam in tqdm(cams):\n",
    "        # Initialise heatmap \n",
    "        heatmap_distribution_global = np.ones([grid_height, grid_width])\n",
    "\n",
    "        # Create bins between 0 and 1 to use normalized detection points for heatmaps\n",
    "        bins_x = np.arange(0,1,1/grid_width)\n",
    "        bins_y = np.arange(0,1,1/grid_height)\n",
    "        \n",
    "        \n",
    "        number_of_tiles_to_select = n_percentage_of_y(policy_percentage, image_num_grid_tiles)\n",
    "        \n",
    "        # Finds all filenames starting with the camera name\n",
    "        #images_path = glob.glob(share_folder_path + cam + MONTH_TEST + '*')\n",
    "        # OR\n",
    "        images_path_all = fnmatch.filter(os.listdir(share_folder_path), cam + \"*\")\n",
    "        images_path = []\n",
    "        for i in range(number_of_months_to_include):  \n",
    "            images_path.extend(fnmatch.filter(images_path_all, cam + MONTHS[i] + \"*\"))\n",
    "        \n",
    "        #images_path = images_path[:10]\n",
    "        # Add folder path before images name, if you don't use glob.\n",
    "        images_path = [share_folder_path + image_path for image_path in images_path]\n",
    "        images_path.sort(key=lambda x: os.path.getmtime(x))\n",
    "        ic(len(images_path))\n",
    "\n",
    "        # First, store all detections in a list, and then create a dataframe out of it\n",
    "        all_timestamps_count_results = []\n",
    "        only_detections_detailed_results = []\n",
    "        \n",
    "        \n",
    "        # For local inference\n",
    "        # Model\n",
    "        if INFERENCE_LOCAL is True:\n",
    "            #logging.getLogger(\"utils.general\").setLevel(logging.WARNING)\n",
    "            # Suppress PyTorch warnings\n",
    "            warnings.filterwarnings('ignore', message='User provided device_type of \\'cuda\\', but CUDA is not available. Disabling')\n",
    "            model = torch.hub.load('ultralytics/yolov5', 'yolov5s', force_reload=True, device='cpu')  # or yolov5m, yolov5l, yolov5x, custom\n",
    "\n",
    "        \n",
    "        for index, image_path in enumerate(tqdm(images_path)):\n",
    "            try:\n",
    "                \n",
    "                # Slice image into n parts/tiles \n",
    "                image_tiles = image_slicer.slice(image_path, image_num_grid_tiles, save=False) # accepts even number\n",
    "                \n",
    "                \n",
    "                \n",
    "                # Based on policy, choose which image tiles to send \n",
    "                e_decay = exploration * decay\n",
    "                exploration = e_decay\n",
    "                result_policy = egreedy_policy( number_of_tiles_to_select,\n",
    "                                                image_num_grid_tiles, \n",
    "                                                grid_width, grid_height, \n",
    "                                                e_decay, heatmap_distribution_global ) \n",
    "                \n",
    "              \n",
    "                \n",
    "                \n",
    "                # Map selected tiles indices as per SlicerPackage indices scheme \n",
    "                selected_tiles_indices =  adjust_indices_for_slicerPackage(result_policy[\"selected_tiles_inidces_x\"],\n",
    "                                                                           result_policy[\"selected_tiles_indices_y\"])  \n",
    "                \n",
    "                # Select only chosen image tiles from all image tiles based on policy\n",
    "                selected_tiles = select_tiles(image_tiles, selected_tiles_indices)\n",
    "\n",
    "                # Check Image Capture time to select background                       \n",
    "                stamp = make_timestamp(image_path, cam)\n",
    "                \n",
    "                # Paste selected tiles on reference/background image                \n",
    "                overlapped_image = overlap_selected_tiles_on_background_image(tiles_to_overlap = selected_tiles,\n",
    "                                                                              total_number_of_tiles = image_num_grid_tiles,\n",
    "                                                                              reference_image_path = get_camera_background_image_path(cam, pd.Timestamp(stamp))\n",
    "                                                                              )\n",
    "                # Inference\n",
    "                if INFERENCE_LOCAL is True:\n",
    "                    \n",
    "                    # (A) Perform inference on machine                    \n",
    "                    results = model(overlapped_image)    \n",
    "                    detected_objects = results.pandas().xyxyn[0]\n",
    "                    \n",
    "                    if len(detected_objects) > 0:\n",
    "                        heatmap_distribution_global = update_heatmap(heatmap_distribution_global, bins_x, bins_y, detected_objects, EXP_CONF_THRESHOLD)\n",
    "                        \n",
    "                        #stamp = make_timestamp(image_path, cam)\n",
    "                        person_count = 0\n",
    "                        \n",
    "                        for index, row in detected_objects.iterrows():\n",
    "\n",
    "                            entry_detections = {\n",
    "                                \"timestamp\": pd.Timestamp(stamp),\n",
    "                                \"p1x\": row['xmin'],\n",
    "                                \"p1y\": row['ymin'],\n",
    "                                \"p2x\": row['xmax'],\n",
    "                                \"p2y\": row['ymax'],\n",
    "                                \"conf\": row['confidence'],\n",
    "                                \"class\": row['name'],\n",
    "                                \"EXP-policy-tiles\": selected_tiles_indices\n",
    "                        \n",
    "                            }\n",
    "\n",
    "                            only_detections_detailed_results.append(entry_detections)\n",
    "\n",
    "                            if( (row['name'] == 'person') and (row['confidence'] > EXP_CONF_THRESHOLD)):\n",
    "                                person_count = person_count + 1\n",
    "                        \n",
    "                       \n",
    "                    else:\n",
    "                        \n",
    "                        stamp = make_timestamp(image_path, cam)\n",
    "                        person_count = 0\n",
    "                        \n",
    "                        \n",
    "                        \n",
    "                    # We add this to check what could happen in terms of error if we do exploitation instead of exploration. Ideally exploitation should improve the result.\n",
    "                    # The following if block is not part of the pipeline but is used to get error graphs.\n",
    "                    if (result_policy[\"if_exploration\"] == True):\n",
    "                        forced_exploitation_result = exploitation_always(number_of_tiles_to_select,\n",
    "                                                    image_num_grid_tiles, \n",
    "                                                    grid_width, grid_height, \n",
    "                                                    heatmap_distribution_global,\n",
    "                                                    image_tiles, cam, EXP_CONF_THRESHOLD, model, pd.Timestamp(stamp))    \n",
    "                        forced_exploitation_person_count = forced_exploitation_result[\"person_count\"]\n",
    "                    else:\n",
    "                        # Here we write the result of policy true exploitation\n",
    "                        forced_exploitation_person_count = person_count\n",
    "                        \n",
    "                    # Store results    \n",
    "                    entry_timestamps = {\n",
    "                        \"timestamp\": pd.Timestamp(stamp),\n",
    "                        \"count\":   person_count,\n",
    "                        \"exp-conf\": EXP_CONF_THRESHOLD,\n",
    "                        \"exp-grid_tiles\": image_num_grid_tiles,\n",
    "                        \"exp-local_inference\": INFERENCE_LOCAL,\n",
    "                        \"exp-e_decay\": e_decay,\n",
    "                        \"exp-policy_is_exploration\": result_policy[\"if_exploration\"],\n",
    "                        \"count_exploitation_forced\": forced_exploitation_person_count,\n",
    "                        \"image_path\": image_path\n",
    "\n",
    "                    }\n",
    "\n",
    "                    all_timestamps_count_results.append(entry_timestamps)\n",
    "                  \n",
    "                    \n",
    "                else:    \n",
    "                    # (B) Do inference on cloud and send image... \n",
    "                    ##request = yolov5_service_pb2.Image(data = image_to_byte_array(overlapped_image))\n",
    "                    ##detected_objects = yolo_stub.detect(request) \n",
    "                    ##detected_objects = detected_objects.objects\n",
    "    \n",
    "                    if len(detected_objects) > 0:\n",
    "                        stamp = make_timestamp(image_path, cam)\n",
    "\n",
    "\n",
    "                        for obj in detected_objects:\n",
    "                            data.append([pd.Timestamp(stamp),\n",
    "                                         obj.p1.x,\n",
    "                                         obj.p1.y,\n",
    "                                         obj.p2.x,\n",
    "                                         obj.p2.y,\n",
    "                                         obj.conf,\n",
    "                                         obj.class_name])\n",
    "\n",
    "            # Error handling: if there is any error inside the container, just ignore and continue processing next images\n",
    "            except ValueError as error:\n",
    "                print('Error inside grpc service:')\n",
    "                print(error.args[0])\n",
    "                print(error.args[1])\n",
    "                print('Continue to next image')\n",
    "                continue\n",
    "            \n",
    "            \n",
    "            except Exception as error:\n",
    "                print ('Error due to some reason')\n",
    "                print ('index: ')\n",
    "                print (index)\n",
    "                print (image_path)\n",
    "                continue\n",
    "            \n",
    "        df_only_detections_detailed_results = pd.DataFrame(only_detections_detailed_results)\n",
    "        df_all_timestamps_count_results = pd.DataFrame(all_timestamps_count_results)\n",
    "\n",
    "       \n",
    "        path_string_detections = exp_name_folder + '/' + cam + '_only_detections_' + '_policy_' + str(policy_percentage) + '_tiles_' + str(image_num_grid_tiles)\n",
    "        path_string_timestamps = exp_name_folder + '/' + cam + '_all_timestamps_count_' + '_policy_' + str(policy_percentage) + '_tiles_' + str(image_num_grid_tiles)\n",
    "        \n",
    "        path_string_detections +=  \"_MONTHS\"\n",
    "        path_string_timestamps +=  \"_MONTHS\"\n",
    "        \n",
    "        for i in range(number_of_months_to_include):  \n",
    "            path_string_detections +=  str(MONTHS[i])\n",
    "            path_string_timestamps +=  str(MONTHS[i])\n",
    "        \n",
    "        database_path = '../data/datasets/'    \n",
    "            \n",
    "        if INFERENCE_LOCAL is True:\n",
    "            database_path += 'local/'\n",
    "            make_dir_if_not_exists(database_path + exp_name_folder)\n",
    "            df_only_detections_detailed_results.to_csv('../data/datasets/local/' + path_string_detections + '.csv', index=False)\n",
    "            df_all_timestamps_count_results.to_csv('../data/datasets/local/' + path_string_timestamps + '.csv', index=False)\n",
    "        else:\n",
    "            database_path += 'cloud/'\n",
    "            make_dir_if_not_exists(database_path + exp_name_folder)\n",
    "            df_only_detections_detailed_results.to_csv('../data/datasets/cloud/' +  path_string_detections + '.csv', index=False)\n",
    "            df_all_timestamps_count_results.to_csv('../data/datasets/cloud/' + path_string_timestamps + '.csv', index=False)\n",
    "            \n",
    "        if SAVE_HEATMAP:\n",
    "            make_dir_if_not_exists(database_path + exp_name_folder + '/outputs/')\n",
    "            heatmap_distribution_global = heatmap_distribution_global - 1\n",
    "            # Normalize\n",
    "            heatmap_distribution_global = heatmap_distribution_global/heatmap_distribution_global.sum()\n",
    "            ax = sns.heatmap(heatmap_distribution_global, xticklabels=False, yticklabels=False, cmap='Reds')\n",
    "            plt.title(cam)\n",
    "            plt.savefig(database_path + exp_name_folder + '/outputs/' + 'heatmap_' + cam + '.jpg', dpi=300, format='jpg')\n",
    "            plt.clf()    \n",
    "\n",
    "if __name__ == '__main__':\n",
    "    pipeline_sensor()        "
   ]
  },
  {
   "cell_type": "code",
   "execution_count": null,
   "id": "be1c31c0-4c8b-4666-972b-436af6aaf38f",
   "metadata": {},
   "outputs": [],
   "source": []
  },
  {
   "cell_type": "code",
   "execution_count": null,
   "id": "3d7a4b46-b75e-4b38-b52d-fc636202bcff",
   "metadata": {},
   "outputs": [],
   "source": []
  }
 ],
 "metadata": {
  "kernelspec": {
   "display_name": "yolo_env",
   "language": "python",
   "name": "yolo_env"
  },
  "language_info": {
   "codemirror_mode": {
    "name": "ipython",
    "version": 3
   },
   "file_extension": ".py",
   "mimetype": "text/x-python",
   "name": "python",
   "nbconvert_exporter": "python",
   "pygments_lexer": "ipython3",
   "version": "3.7.11"
  }
 },
 "nbformat": 4,
 "nbformat_minor": 5
}
